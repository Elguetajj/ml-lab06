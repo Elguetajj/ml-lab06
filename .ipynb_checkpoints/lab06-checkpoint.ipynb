{
 "cells": [
  {
   "cell_type": "code",
   "execution_count": 1,
   "id": "c69c5972-6858-4aca-9f64-c1fad1273b93",
   "metadata": {},
   "outputs": [],
   "source": [
    "import pandas as pd\n",
    "import numpy as np"
   ]
  },
  {
   "cell_type": "code",
   "execution_count": 2,
   "id": "d2c8e056-c517-4fb5-a0eb-3349303d5839",
   "metadata": {},
   "outputs": [],
   "source": [
    "def reg_cost(X, y, theta):\n",
    "    x_hat = X @ theta\n",
    "    h = 1 / (1 + np.exp(-x_hat))\n",
    "    return -(y * np.log(h)) + ((1 - y) * np.log(1 - h))\n",
    "\n",
    "def reg_cost_prime(X, y, theta):\n",
    "    h = X @ theta\n",
    "    return ((X.T @ (h-y)) / len(X))\n",
    "\n",
    "def gradient_descent(\n",
    "    X, y, theta_0, \n",
    "    cost_function, cost_function_prime,\n",
    "    learning_rate, threshold, max_iter=1000\n",
    "):\n",
    "    theta = theta_0\n",
    "    iteration = 0\n",
    "    costs = []\n",
    "    thetas = []\n",
    "\n",
    "    while np.linalg.norm(cost_function_prime(X, y, theta)) > threshold and iteration < max_iter:\n",
    "        iteration += 1\n",
    "        theta -= learning_rate * cost_function_prime(X, y, theta)\n",
    "        costs.append(cost_function(X, y, theta))\n",
    "        thetas.append(theta.copy())\n",
    "    return theta, costs, thetas"
   ]
  },
  {
   "cell_type": "code",
   "execution_count": null,
   "id": "40337560-7f10-4033-a56d-5cb944306260",
   "metadata": {},
   "outputs": [],
   "source": []
  }
 ],
 "metadata": {
  "kernelspec": {
   "display_name": "Python 3",
   "language": "python",
   "name": "python3"
  },
  "language_info": {
   "codemirror_mode": {
    "name": "ipython",
    "version": 3
   },
   "file_extension": ".py",
   "mimetype": "text/x-python",
   "name": "python",
   "nbconvert_exporter": "python",
   "pygments_lexer": "ipython3",
   "version": "3.9.1"
  }
 },
 "nbformat": 4,
 "nbformat_minor": 5
}
